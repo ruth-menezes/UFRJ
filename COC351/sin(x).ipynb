{
  "nbformat": 4,
  "nbformat_minor": 0,
  "metadata": {
    "colab": {
      "name": "sin(x).ipynb",
      "provenance": [],
      "collapsed_sections": [],
      "include_colab_link": true
    },
    "kernelspec": {
      "name": "python3",
      "display_name": "Python 3"
    },
    "language_info": {
      "name": "python"
    }
  },
  "cells": [
    {
      "cell_type": "markdown",
      "metadata": {
        "id": "view-in-github",
        "colab_type": "text"
      },
      "source": [
        "<a href=\"https://colab.research.google.com/github/ruth-menezes/UFRJ/blob/main/COC351/sin(x).ipynb\" target=\"_parent\"><img src=\"https://colab.research.google.com/assets/colab-badge.svg\" alt=\"Open In Colab\"/></a>"
      ]
    },
    {
      "cell_type": "code",
      "execution_count": 1,
      "metadata": {
        "id": "9jKjqJKclL3h",
        "colab": {
          "base_uri": "https://localhost:8080/"
        },
        "outputId": "9c15f5d9-9356-4f86-cca7-a599dba90466"
      },
      "outputs": [
        {
          "output_type": "stream",
          "name": "stdout",
          "text": [
            "Insert x:0.1\n",
            "0.1\n",
            "sin(0.1) = 0.0998334166468282\n",
            "The estimated value of sin(0.1) is 0.0998334166468282\n",
            "The absolute error is 0.0000000000000000\n"
          ]
        }
      ],
      "source": [
        "import math\n",
        "\n",
        "def sine(x): \n",
        "  return math.sin(x) \n",
        "\n",
        "def maclaurin_sine(x,truncation):\n",
        "  mac_sine = 0\n",
        "\n",
        "  if(0<=x<=1):\n",
        "    for i in range(0,truncation):\n",
        "      mac_sine += ((-1)**i)*(x**(2*i + 1)/(math.factorial(2*i + 1))) #Maclaurin expansion of sin(x)\n",
        "\n",
        "    error_sin = sine(x) - mac_sine #Error = exact value (sin(x)) - estimated value (by Maclaurin expansion)\n",
        "    if error_sin < 0: \n",
        "      error_sin = error_sin*(-1) #Absolute error\n",
        "\n",
        "    print(\"sin({:.1f}) = {:.16f}\".format(x,sine(x)))\n",
        "    print(\"The estimated value of sin({:.1f}) is {:.16f}\".format(x,mac_sine))\n",
        "    print(\"The absolute error is {:.16f}\".format(error_sin))\n",
        "    \n",
        "    return error_sin, mac_sine\n",
        "\n",
        "  else:\n",
        "    print(\"x must be between 0 and 1\")\n",
        "\n",
        "if __name__ == \"__main__\":\n",
        "  x = input(\"Insert x:\")\n",
        "  print(x)\n",
        "  x = float(x)\n",
        "    \n",
        "  truncation= 8 \n",
        "\n",
        "  maclaurin_sine(x,truncation)"
      ]
    }
  ]
}