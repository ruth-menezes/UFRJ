{
  "nbformat": 4,
  "nbformat_minor": 0,
  "metadata": {
    "colab": {
      "name": "exponential.ipynb",
      "provenance": [],
      "include_colab_link": true
    },
    "kernelspec": {
      "name": "python3",
      "display_name": "Python 3"
    },
    "language_info": {
      "name": "python"
    }
  },
  "cells": [
    {
      "cell_type": "markdown",
      "metadata": {
        "id": "view-in-github",
        "colab_type": "text"
      },
      "source": [
        "<a href=\"https://colab.research.google.com/github/ruth-menezes/UFRJ/blob/main/COC351/exponential.ipynb\" target=\"_parent\"><img src=\"https://colab.research.google.com/assets/colab-badge.svg\" alt=\"Open In Colab\"/></a>"
      ]
    },
    {
      "cell_type": "code",
      "execution_count": 9,
      "metadata": {
        "colab": {
          "base_uri": "https://localhost:8080/"
        },
        "id": "fIcM8OcwWBPC",
        "outputId": "a987049d-c251-4539-8594-8f296183d90e"
      },
      "outputs": [
        {
          "output_type": "stream",
          "name": "stdout",
          "text": [
            "Insert x:0.5\n",
            "0.5\n",
            "e**(0.5) = 1.6487212707001282\n",
            "The estimated value of e**(0.50) is 1.6487211681547618\n",
            "The absolute error is 0.0000001025453664\n"
          ]
        }
      ],
      "source": [
        "import math\n",
        "\n",
        "def exponential(x): \n",
        "  return math.e**x\n",
        "\n",
        "def maclaurin_exp(x,truncation):\n",
        "  mac_exp = 0\n",
        "\n",
        "  if(0<=x<1):\n",
        "    for i in range(0,truncation):\n",
        "      mac_exp += (x**i)/math.factorial(i) #Maclaurin expansion of e**x\n",
        "\n",
        "    error_exp = exponential(x) - mac_exp #Error = exact value (e**x) - estimated value (by Maclaurin expansion)\n",
        "    if error_exp < 0: \n",
        "      error_exp = error_exp*(-1) #Absolute error\n",
        "\n",
        "    print(\"e**({:.1f}) = {:.16f}\".format(x,exponential(x)))\n",
        "    print(\"The estimated value of e**({:.2f}) is {:.16f}\".format(x,mac_exp))\n",
        "    print(\"The absolute error is {:.16f}\".format(error_exp))\n",
        "    \n",
        "    return error_exp, mac_exp\n",
        "\n",
        "  else:\n",
        "    print(\"x must be between 0 and 1\")\n",
        "\n",
        "if __name__ == \"__main__\":\n",
        "  x = input(\"Insert x:\")\n",
        "  print(x)\n",
        "  x = float(x)\n",
        "    \n",
        "  truncation= 8 \n",
        "\n",
        "  maclaurin_exp(x,truncation)"
      ]
    }
  ]
}
