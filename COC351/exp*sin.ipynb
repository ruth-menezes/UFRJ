{
  "nbformat": 4,
  "nbformat_minor": 0,
  "metadata": {
    "colab": {
      "name": "exp*sin.ipynb",
      "provenance": [],
      "mount_file_id": "11kj-X0p-VkQidBR8uyy7LojiRVhryovf",
      "authorship_tag": "ABX9TyPlNd6i92AiMYWhxedWCrqb",
      "include_colab_link": true
    },
    "kernelspec": {
      "name": "python3",
      "display_name": "Python 3"
    },
    "language_info": {
      "name": "python"
    }
  },
  "cells": [
    {
      "cell_type": "markdown",
      "metadata": {
        "id": "view-in-github",
        "colab_type": "text"
      },
      "source": [
        "<a href=\"https://colab.research.google.com/github/ruth-menezes/UFRJ/blob/main/COC351/exp*sin.ipynb\" target=\"_parent\"><img src=\"https://colab.research.google.com/assets/colab-badge.svg\" alt=\"Open In Colab\"/></a>"
      ]
    },
    {
      "cell_type": "code",
      "execution_count": 20,
      "metadata": {
        "id": "CmAcSGZfzGh6",
        "colab": {
          "base_uri": "https://localhost:8080/"
        },
        "outputId": "b8444794-bb10-42db-fe7f-c061353d6c6e"
      },
      "outputs": [
        {
          "output_type": "stream",
          "name": "stdout",
          "text": [
            "Insert x:0.1\n",
            "0.1\n",
            "e**(0.1) = 1.1051709180756477\n",
            "The estimated value of e**(0.10) is 1.1051709180753966\n",
            "The absolute error is 0.0000000000002511\n",
            "sin(0.1) = 0.0998334166468282\n",
            "The estimated value of sin(0.1) is 0.0998334166468282\n",
            "The absolute error is 0.0000000000000000\n",
            "e**(0.1) = 1.1051709180756477\n",
            "The estimated value of e**(0.10) is 1.1051709180753966\n",
            "The absolute error is 0.0000000000002511\n",
            "sin(0.1) = 0.0998334166468282\n",
            "The estimated value of sin(0.1) is 0.0998334166468282\n",
            "The absolute error is 0.0000000000000000\n",
            "Error of g(0.1) = exp(x)*sen(x) by propagation of error is 2.7754427864629437e-13\n",
            "Error of g(0.1) = exp(x)*sen(x) using python built-in functions is 2.506328478091291e-14\n"
          ]
        }
      ],
      "source": [
        "import math\n",
        "\n",
        "#EXPONENTIAL\n",
        "def exponential(x): \n",
        "  return math.exp(x)\n",
        "\n",
        "def maclaurin_exp(x,truncation):\n",
        "  mac_exp = 0\n",
        "\n",
        "  if(0<=x<1):\n",
        "    for i in range(0,truncation):\n",
        "      mac_exp += (x**i)/math.factorial(i) #Maclaurin expansion of e**x\n",
        "\n",
        "    error_exp = exponential(x) - mac_exp #Error = exact value (e**x) - estimated value (by Maclaurin expansion)\n",
        "    if error_exp < 0: \n",
        "      error_exp = error_exp*(-1) #Absolute error\n",
        "\n",
        "    print(\"e**({:.1f}) = {:.16f}\".format(x,exponential(x)))\n",
        "    print(\"The estimated value of e**({:.2f}) is {:.16f}\".format(x,mac_exp))\n",
        "    print(\"The absolute error is {:.16f}\".format(error_exp))\n",
        "    \n",
        "    return error_exp, mac_exp\n",
        "\n",
        "  else:\n",
        "    print(\"x must be between 0 and 1\")\n",
        "\n",
        "# SINE\n",
        "def sine(x): \n",
        "  return math.sin(x) \n",
        "\n",
        "def maclaurin_sine(x,truncation):\n",
        "  mac_sine = 0\n",
        "\n",
        "  if(0<=x<=1):\n",
        "    for i in range(0,truncation):\n",
        "      mac_sine += ((-1)**i)*(x**(2*i + 1)/(math.factorial(2*i + 1))) #Maclaurin expansion of sin(x)\n",
        "\n",
        "    error_sin = sine(x) - mac_sine #Error = exact value (sin(x)) - estimated value (by Maclaurin expansion)\n",
        "    if error_sin < 0: \n",
        "      error_sin = error_sin*(-1) #Absolute error\n",
        "\n",
        "    print(\"sin({:.1f}) = {:.16f}\".format(x,sine(x)))\n",
        "    print(\"The estimated value of sin({:.1f}) is {:.16f}\".format(x,mac_sine))\n",
        "    print(\"The absolute error is {:.16f}\".format(error_sin))\n",
        "    \n",
        "    return error_sin, mac_sine\n",
        "\n",
        "  else:\n",
        "    print(\"x must be between 0 and 1\")\n",
        "\n",
        "# COSINE\n",
        "def maclaurin_cosine(x, truncation):\n",
        "    mac_cos = 0\n",
        "\n",
        "    if(0<=x<1):\n",
        "      for i in range (0, truncation):\n",
        "          mac_cos += ((-1)**i)*(x**(2*i)/(math.factorial(2*i))) #Maclaurin expansion of cos(x)\n",
        "      return mac_cos;\n",
        "\n",
        "    else:\n",
        "      print(\"x must be between 0 and 1\")\n",
        "\n",
        "# ERROR\n",
        "def err_max(x):\n",
        "  err_exp, result_exp = maclaurin_exp(x, truncation)\n",
        "  err_sin, result_sin = maclaurin_sine(x, truncation)\n",
        "  result_cos = maclaurin_cosine(x, truncation)\n",
        "  err_mac = math.sqrt((result_cos*err_sin)**2 + (result_exp*err_exp)**2) #Propagation of error\n",
        "  err_py = abs(math.exp(x)*math.sin(x) - result_sin*result_exp);\n",
        "\n",
        "  print(f'Error of g({x}) = exp(x)*sen(x) by propagation of error is {err_mac}')\n",
        "  print(f'Error of g({x}) = exp(x)*sen(x) using python built-in functions is {err_py}')\n",
        "\n",
        "  return err_mac,err_py\n",
        "\n",
        "if __name__ == \"__main__\":\n",
        "  x = input(\"Insert x:\")\n",
        "  print(x)\n",
        "  x = float(x)\n",
        "    \n",
        "  truncation= 8 \n",
        "\n",
        "\n",
        "  maclaurin_exp(x,truncation)\n",
        "  maclaurin_sine(x,truncation)\n",
        "  maclaurin_cosine(x, truncation)\n",
        "  err_max(x)"
      ]
    }
  ]
}