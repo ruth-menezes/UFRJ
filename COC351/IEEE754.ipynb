{
  "nbformat": 4,
  "nbformat_minor": 0,
  "metadata": {
    "colab": {
      "name": "IEEE754.ipynb",
      "provenance": [],
      "collapsed_sections": [],
      "authorship_tag": "ABX9TyP3RZ3EU74bApX1CdyoFXqO",
      "include_colab_link": true
    },
    "kernelspec": {
      "name": "python3",
      "display_name": "Python 3"
    },
    "language_info": {
      "name": "python"
    }
  },
  "cells": [
    {
      "cell_type": "markdown",
      "metadata": {
        "id": "view-in-github",
        "colab_type": "text"
      },
      "source": [
        "<a href=\"https://colab.research.google.com/github/ruth-menezes/UFRJ/blob/main/COC351/IEEE754.ipynb\" target=\"_parent\"><img src=\"https://colab.research.google.com/assets/colab-badge.svg\" alt=\"Open In Colab\"/></a>"
      ]
    },
    {
      "cell_type": "code",
      "execution_count": null,
      "metadata": {
        "id": "0-MCzkJ5xSIA",
        "colab": {
          "base_uri": "https://localhost:8080/"
        },
        "outputId": "93958c76-1777-475f-9e0e-01afbe0847e2"
      },
      "outputs": [
        {
          "output_type": "stream",
          "name": "stdout",
          "text": [
            "[0, '1', '0', '0', '0', '0', '0', '0', '0', '0', '0', '0', '0', '0', '0', '0']\n"
          ]
        }
      ],
      "source": [
        "def binary_trans(number = []):\n",
        "  j=0;\n",
        "  B=0;\n",
        "  mant= 1;\n",
        "  k=1;\n",
        "  for i in range(7,0,-1):\n",
        "      B = B + number[i]*(2**(j));\n",
        "      j = j + 1;\n",
        "  for i in range(8,16):\n",
        "    mant= mant + number[i]*(10**(-k));\n",
        "    k= k+1; \n",
        "  if(number[0]==1):\n",
        "    N = -(2**(B-64)*mant)\n",
        "  if(number[0]==0):\n",
        "     N = (2**(B-64)*mant)\n",
        "  return N;\n",
        "\n",
        "def dec_trans(sum): \n",
        "  k=0;\n",
        "  if(sum < 0):\n",
        "    binary_sum = [1];\n",
        "  else:\n",
        "     binary_sum = [0];\n",
        "  bin = decimalToBinary(sum, 8)\n",
        "  B = list(decimalToBinary(len(bin) + 55, 0))\n",
        "  bin = bin.replace(\".\",\"\")\n",
        "  bin = list(bin[1:9])\n",
        "  binary_sum = binary_sum + B + bin;\n",
        " \n",
        "  print(binary_sum)\n",
        "  return(binary_sum)\n",
        "\n",
        "def decimalToBinary(num, k_prec) :\n",
        "    binary = \"\"\n",
        "    Integral = int(num)\n",
        "    fractional = num - Integral\n",
        "    if Integral == 0:\n",
        "      binary += \"0\"\n",
        "    while (Integral) : \n",
        "        rem = Integral % 2\n",
        "        binary += str(rem);\n",
        "        Integral //= 2\n",
        "    binary = binary[ : : -1]\n",
        "    while (k_prec) :\n",
        "        fractional *= 2\n",
        "        fract_bit = int(fractional)\n",
        "        if (fract_bit == 1) :\n",
        "            fractional -= fract_bit\n",
        "            binary += '1'  \n",
        "        else :\n",
        "            binary += '0'\n",
        "        k_prec -= 1\n",
        "    return binary \n",
        "\n",
        "def dec_sum(number1= [],number2 = []):\n",
        "  if((number1[1:] == number2[1:]) and (number1[0] != number2[0])):\n",
        "      sum = [0,0,0,0,0,0,0,0,0,0,0,0,0,0,0,0]\n",
        "      return sum;\n",
        "  else:  \n",
        "      sum =  binary_trans(number1) + binary_trans(number2) \n",
        "      bin_sum = dec_trans(sum);   \n",
        "\n",
        "  \n",
        "dec_sum([0,1,0,0,0,0,0,0,0,0,0,0,0,0,0,0] , [0,0,0,0,0,0,1,1,0,0,0,0,0,0,0,0])"
      ]
    }
  ]
}